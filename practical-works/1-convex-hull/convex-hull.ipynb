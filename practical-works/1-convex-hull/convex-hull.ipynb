{
 "cells": [
  {
   "cell_type": "markdown",
   "metadata": {},
   "source": [
    "#### INF2604 – Computational Geometry\n",
    "### Work I - Convex hull"
   ]
  },
  {
   "cell_type": "code",
   "execution_count": 1,
   "metadata": {},
   "outputs": [],
   "source": [
    "import numpy as np\n",
    "import matplotlib.pyplot as plt\n",
    "\n",
    "%matplotlib inline"
   ]
  },
  {
   "cell_type": "code",
   "execution_count": 2,
   "metadata": {},
   "outputs": [],
   "source": [
    "_EPS = 1**-9\n",
    "INF = 2048\n",
    "\n",
    "class point(object):\n",
    "    def __init__(self, x, y):\n",
    "        self.x = x\n",
    "        self.y = y\n",
    "        self.mag = self.magnitude()\n",
    "        \n",
    "    def dist(self, p):\n",
    "        return np.sqrt(np.power((p.x - self.x), 2) + np.power((p.y - self.y), 2))\n",
    "    \n",
    "    def is_in(self, circle):\n",
    "        d = self.dist(circle.c)\n",
    "\n",
    "        if d <= circle.r: # considering p inside circle when p is on circle\n",
    "            return True\n",
    "        else:\n",
    "            return False\n",
    "\n",
    "    def collinear(self, pi, pj):\n",
    "        m = np.array([\n",
    "                        [1, self.x, self.y],\n",
    "                        [1, pi.x, pi.y],\n",
    "                        [1, pj.x, pj.y]\n",
    "                     ])\n",
    "        m_det = np.linalg.det(m)\n",
    "        return np.fabs(m_det) <= _EPS\n",
    "    \n",
    "    def minus(self, p):\n",
    "        return point(self.x - p.x, self.y - p.y)\n",
    "    \n",
    "    def plus(self, p):\n",
    "        return point(self.x + p.x, self.y + p.y)\n",
    "    \n",
    "    def scalar_mult(self, alpha):\n",
    "        return point(self.x * alpha, self.y * alpha)\n",
    "    \n",
    "    def magnitude(self):\n",
    "        return np.sqrt(self.x * self.x + self.y * self.y)\n",
    "    \n",
    "    def normalization(self):\n",
    "        m = self.magnitude()\n",
    "        return point(self.x / m, self.y / m)\n",
    "    \n",
    "    def equal(self, p):\n",
    "        return self.x == p.x and self.y == p.y\n",
    "    \n",
    "    def angle(self, p):\n",
    "        length1 = np.sqrt(self.x * self.x + self.y * self.y)\n",
    "        length2 = np.sqrt(p.x * p.x + p.y * p.y)\n",
    "        return np.arccos((self.x * p.x + self.y * p.y)/ (length1 * length2))"
   ]
  },
  {
   "cell_type": "code",
   "execution_count": 3,
   "metadata": {},
   "outputs": [],
   "source": [
    "class segment(object):\n",
    "    def __init__(self, p, q):\n",
    "        self.p = p\n",
    "        self.q = q\n",
    "    \n",
    "    def angle(self):\n",
    "        return np.arctan2([self.p.x], [self.q.x])[0]"
   ]
  },
  {
   "cell_type": "markdown",
   "metadata": {},
   "source": [
    "### Set with fecho1.txt points"
   ]
  },
  {
   "cell_type": "code",
   "execution_count": 4,
   "metadata": {},
   "outputs": [],
   "source": [
    "points_1 = list()\n",
    "\n",
    "filename = 'fecho1.txt'\n",
    "\n",
    "with open(filename, 'r') as f:\n",
    "    for line in f:\n",
    "        line = line.split()\n",
    "        points_1.append(point(float(line[0]), float(line[1])))\n",
    "        \n",
    "points_2 = list()\n",
    "\n",
    "filename = 'fecho2.txt'\n",
    "\n",
    "with open(filename, 'r') as f:\n",
    "    for line in f:\n",
    "        line = line.split()\n",
    "        points_2.append(point(float(line[0]), float(line[1])))"
   ]
  },
  {
   "cell_type": "markdown",
   "metadata": {},
   "source": [
    "### Point cloud example (fecho1.txt)"
   ]
  },
  {
   "cell_type": "code",
   "execution_count": 5,
   "metadata": {
    "scrolled": false
   },
   "outputs": [
    {
     "data": {
      "image/png": "[encoded data removed]",
      "text/plain": [
       "<Figure size 432x288 with 1 Axes>"
      ]
     },
     "metadata": {
      "needs_background": "light"
     },
     "output_type": "display_data"
    }
   ],
   "source": [
    "plt.scatter([p.x for p in points_1], [p.y for p in points_1], marker='.')\n",
    "plt.show()"
   ]
  },
  {
   "cell_type": "markdown",
   "metadata": {},
   "source": [
    "### Auxiliary functions"
   ]
  },
  {
   "cell_type": "code",
   "execution_count": 6,
   "metadata": {},
   "outputs": [],
   "source": [
    "# lowest point\n",
    "def lowest_point(points):\n",
    "    ymin = INF\n",
    "    idx = 0\n",
    "    for i in range(len(points)):\n",
    "        p = points[i]\n",
    "        if p.y <= ymin:\n",
    "            ymin = p.y\n",
    "            idx = i\n",
    "    \n",
    "    return idx"
   ]
  },
  {
   "cell_type": "code",
   "execution_count": 7,
   "metadata": {},
   "outputs": [],
   "source": [
    "def orientation(p, q, r):\n",
    "    m_pqr = np.array([\n",
    "            [1, p.x, p.y],\n",
    "            [1, q.x, q.y],\n",
    "            [1, r.x, r.y]\n",
    "         ])\n",
    "    \n",
    "    m_pqr_det = np.linalg.det(m_pqr)\n",
    "    \n",
    "    if m_pqr_det == 0: # colinear\n",
    "        return 0\n",
    "    elif m_pqr_det > 0: # clockwise\n",
    "        return 1\n",
    "    else: # counter-clockwise\n",
    "        return 2        "
   ]
  },
  {
   "cell_type": "markdown",
   "metadata": {},
   "source": [
    "### Gift wrapping algorithm\n",
    "\n",
    "Time complexity: $O(nh)$ where $h$ is the number of points on hull"
   ]
  },
  {
   "cell_type": "code",
   "execution_count": 8,
   "metadata": {},
   "outputs": [],
   "source": [
    "def convex_hull(points):\n",
    "    n = len(points)\n",
    "    hull = list()\n",
    "    \n",
    "    # initial point\n",
    "    l_idx = lowest_point(points)\n",
    "\n",
    "    p_idx = l_idx\n",
    "    \n",
    "    while True:\n",
    "        hull.append(points[p_idx])\n",
    "        q_idx = (p_idx + 1) % n\n",
    "        \n",
    "        for r_idx in range(n):\n",
    "            # if r is more counterclockwise than current q, q is updated\n",
    "            if r_idx != p_idx and r_idx != p_idx:\n",
    "                if orientation(points[p_idx], points[r_idx], points[q_idx]) == 2:\n",
    "                    q_idx = r_idx\n",
    "        \n",
    "        # q will be added on hull in next iteration\n",
    "        p_idx = q_idx\n",
    "        \n",
    "        # once p is equal to initial points, the algorithm is over\n",
    "        if p_idx == l_idx:\n",
    "            break\n",
    "    \n",
    "    return hull"
   ]
  },
  {
   "cell_type": "code",
   "execution_count": 9,
   "metadata": {},
   "outputs": [],
   "source": [
    "ch_ans_1 = convex_hull(points_1)\n",
    "ch_ans_2 = convex_hull(points_2)"
   ]
  },
  {
   "cell_type": "markdown",
   "metadata": {},
   "source": [
    "### Solution for first set of points"
   ]
  },
  {
   "cell_type": "code",
   "execution_count": 10,
   "metadata": {},
   "outputs": [
    {
     "data": {
      "image/png": "[encoded data removed]",
      "text/plain": [
       "<Figure size 432x288 with 1 Axes>"
      ]
     },
     "metadata": {
      "needs_background": "light"
     },
     "output_type": "display_data"
    }
   ],
   "source": [
    "fig, ax = plt.subplots()\n",
    "ax.scatter([p.x for p in points_1], [p.y for p in points_1], marker='.', color='blue')\n",
    "hull_polygon = plt.Polygon(np.array([[p.x, p.y] for p in ch_ans_1]), edgecolor='black', facecolor='none')\n",
    "ax.add_artist(hull_polygon)\n",
    "\n",
    "plt.show()"
   ]
  },
  {
   "cell_type": "markdown",
   "metadata": {},
   "source": [
    "### Solution for second set of points"
   ]
  },
  {
   "cell_type": "code",
   "execution_count": 11,
   "metadata": {
    "scrolled": true
   },
   "outputs": [
    {
     "data": {
      "image/png": "[encoded data removed]",
      "text/plain": [
       "<Figure size 432x288 with 1 Axes>"
      ]
     },
     "metadata": {
      "needs_background": "light"
     },
     "output_type": "display_data"
    }
   ],
   "source": [
    "fig, ax = plt.subplots()\n",
    "ax.scatter([p.x for p in points_2], [p.y for p in points_2], marker='.', color='blue')\n",
    "hull_polygon = plt.Polygon(np.array([[p.x, p.y] for p in ch_ans_2]), edgecolor='black', facecolor='none')\n",
    "ax.add_artist(hull_polygon)\n",
    "\n",
    "plt.show()"
   ]
  },
  {
   "cell_type": "code",
   "execution_count": 12,
   "metadata": {},
   "outputs": [],
   "source": [
    "def generate_random_points(n, minx = 0, maxx = 400, miny = 0, maxy = 400):\n",
    "    points = list()\n",
    "    \n",
    "    for i in range(n):\n",
    "        x, y = np.random.randint(minx, maxx), np.random.randint(miny, maxy)\n",
    "        points.append(point(x, y))\n",
    "    \n",
    "    return points"
   ]
  },
  {
   "cell_type": "markdown",
   "metadata": {},
   "source": [
    "### Solution for a set of randomly generated points"
   ]
  },
  {
   "cell_type": "code",
   "execution_count": 13,
   "metadata": {
    "scrolled": true
   },
   "outputs": [
    {
     "data": {
      "image/png": "[encoded data removed]",
      "text/plain": [
       "<Figure size 432x288 with 1 Axes>"
      ]
     },
     "metadata": {
      "needs_background": "light"
     },
     "output_type": "display_data"
    }
   ],
   "source": [
    "points_3 = generate_random_points(100) # 100 points on cloud\n",
    "ch_ans_3 = convex_hull(points_3)\n",
    "\n",
    "fig, ax = plt.subplots()\n",
    "ax.scatter([p.x for p in points_3], [p.y for p in points_3], marker='.', color='blue')\n",
    "hull_polygon = plt.Polygon(np.array([[p.x, p.y] for p in ch_ans_3]), edgecolor='black', facecolor='none')\n",
    "ax.add_artist(hull_polygon)\n",
    "\n",
    "plt.show()"
   ]
  },
  {
   "cell_type": "markdown",
   "metadata": {},
   "source": [
    "### Write outputfile"
   ]
  },
  {
   "cell_type": "code",
   "execution_count": 14,
   "metadata": {},
   "outputs": [],
   "source": [
    "def export_solution(points, solution, filename):\n",
    "    with open(filename, 'w') as f:\n",
    "        for v in solution:\n",
    "            vi = points.index(v)\n",
    "            f.write('{}\\n'.format(vi))"
   ]
  },
  {
   "cell_type": "code",
   "execution_count": 15,
   "metadata": {},
   "outputs": [],
   "source": [
    "export_solution(points_1, ch_ans_1, 'nuvem1.txt')\n",
    "export_solution(points_2, ch_ans_2, 'nuvem2.txt')"
   ]
  },
  {
   "cell_type": "code",
   "execution_count": null,
   "metadata": {},
   "outputs": [],
   "source": []
  }
 ],
 "metadata": {
  "kernelspec": {
   "display_name": "Python 3",
   "language": "python",
   "name": "python3"
  },
  "language_info": {
   "codemirror_mode": {
    "name": "ipython",
    "version": 3
   },
   "file_extension": ".py",
   "mimetype": "text/x-python",
   "name": "python",
   "nbconvert_exporter": "python",
   "pygments_lexer": "ipython3",
   "version": "3.6.8"
  }
 },
 "nbformat": 4,
 "nbformat_minor": 2
}
