{
 "cells": [
  {
   "cell_type": "markdown",
   "metadata": {},
   "source": [
    "#### INF2604 – Computational Geometry\n",
    "### Assignment I - Smallest enclosing circle"
   ]
  },
  {
   "cell_type": "code",
   "execution_count": 1,
   "metadata": {},
   "outputs": [],
   "source": [
    "import numpy as np\n",
    "import matplotlib.pyplot as plt\n",
    "import time"
   ]
  },
  {
   "cell_type": "code",
   "execution_count": 2,
   "metadata": {},
   "outputs": [],
   "source": [
    "_EPS = 1**-9\n",
    "\n",
    "class point(object):\n",
    "    def __init__(self, x, y):\n",
    "        self.x = x\n",
    "        self.y = y\n",
    "        self.mag = self.magnitude()\n",
    "        \n",
    "    def dist(self, p):\n",
    "        return np.sqrt(np.power((p.x - self.x), 2) + np.power((p.y - self.y), 2))\n",
    "    \n",
    "    def is_in(self, circle):\n",
    "        d = self.dist(circle.c)\n",
    "\n",
    "        if d <= circle.r: # considering p inside circle when p is on circle\n",
    "            return True\n",
    "        else:\n",
    "            return False\n",
    "\n",
    "    def collinear(self, pi, pj):\n",
    "        m = np.array([\n",
    "                        [1, self.x, self.y],\n",
    "                        [1, pi.x, pi.y],\n",
    "                        [1, pj.x, pj.y]\n",
    "                     ])\n",
    "        m_det = np.linalg.det(m)\n",
    "        return np.fabs(m_det) <= _EPS\n",
    "    \n",
    "    def minus(self, p):\n",
    "        return point(self.x - p.x, self.y - p.y)\n",
    "    \n",
    "    def plus(self, p):\n",
    "        return point(self.x + p.x, self.y + p.y)\n",
    "    \n",
    "    def scalar_mult(self, alpha):\n",
    "        return point(self.x * alpha, self.y * alpha)\n",
    "    \n",
    "    def magnitude(self):\n",
    "        return np.sqrt(self.x * self.x + self.y * self.y)\n",
    "    \n",
    "    def normalization(self):\n",
    "        m = self.magnitude()\n",
    "        return point(self.x / m, self.y / m)"
   ]
  },
  {
   "cell_type": "markdown",
   "metadata": {},
   "source": [
    "### Reading file"
   ]
  },
  {
   "cell_type": "code",
   "execution_count": 3,
   "metadata": {},
   "outputs": [],
   "source": [
    "points = list()\n",
    "\n",
    "filename = 'points.txt'\n",
    "\n",
    "with open(filename, 'r') as f:\n",
    "    for line in f:\n",
    "        line = line.split()\n",
    "        points.append(point(float(line[0]), float(line[1])))"
   ]
  },
  {
   "cell_type": "markdown",
   "metadata": {},
   "source": [
    "### Heuristic algorithm\n",
    "\n",
    "Time complexity: $O(n)$"
   ]
  },
  {
   "cell_type": "code",
   "execution_count": 4,
   "metadata": {},
   "outputs": [],
   "source": [
    "def heuristic(points):\n",
    "    n = len(points)\n",
    "    \n",
    "    if n == 1:\n",
    "        return points[0], 0.0\n",
    "    \n",
    "    p_xmin, p_xmax = min(points, key=lambda p: p.x), max(points, key=lambda p: p.x)\n",
    "    p_ymin, p_ymax = min(points, key=lambda p: p.y), max(points, key=lambda p: p.y)\n",
    "    \n",
    "    \n",
    "    if p_xmin.dist(p_xmax) > p_ymin.dist(p_ymax):\n",
    "        pi, pj = p_xmin, p_xmax\n",
    "    else:\n",
    "        pi, pj = p_ymin, p_ymax\n",
    "        \n",
    "    c = point((pi.x + pj.x) / 2.0, (pi.y + pj.y) / 2.0)\n",
    "    r = pi.dist(pj) / 2.0\n",
    "    \n",
    "    k = 0\n",
    "    \n",
    "    for pk in points:\n",
    "        d = pk.minus(c)\n",
    "        if d.mag > r:\n",
    "            d_norm = d.normalization()\n",
    "            c = c.plus(d_norm.scalar_mult((d.mag - r) / 2.0))\n",
    "            r = (d.mag + r) / 2.0\n",
    "            \n",
    "    return c, r"
   ]
  },
  {
   "cell_type": "markdown",
   "metadata": {},
   "source": [
    "### Heuristic answer for points.txt"
   ]
  },
  {
   "cell_type": "code",
   "execution_count": 5,
   "metadata": {},
   "outputs": [
    {
     "name": "stdout",
     "output_type": "stream",
     "text": [
      "c: (409.95167301564425, 346.5128321593067) r: 200.55763629962556\n"
     ]
    }
   ],
   "source": [
    "c, r = heuristic(points)\n",
    "print('c: ({}, {}) r: {}'.format(c.x, c.y, r))"
   ]
  },
  {
   "cell_type": "code",
   "execution_count": 6,
   "metadata": {},
   "outputs": [
    {
     "data": {
      "image/png": "[encoded data removed]",
      "text/plain": [
       "<Figure size 432x288 with 1 Axes>"
      ]
     },
     "metadata": {},
     "output_type": "display_data"
    }
   ],
   "source": [
    "fig, ax = plt.subplots()\n",
    "ax.scatter([p.x for p in points], [p.y for p in points], marker='.')\n",
    "circle = plt.Circle((c.x, c.y), r, facecolor='none', edgecolor=(1, 0, 0), linewidth=1)\n",
    "\n",
    "xlim = ax.get_xlim()\n",
    "ylim = ax.get_ylim()\n",
    "\n",
    "ax.add_artist(circle)\n",
    "\n",
    "plt.xlim(xlim[0] - xlim[0] * 0.5, xlim[1] + xlim[1] * 0.5)\n",
    "plt.ylim(ylim[0] - ylim[0] * 0.5, ylim[1] + ylim[1] * 0.5)\n",
    "\n",
    "plt.title(filename)\n",
    "\n",
    "plt.show()"
   ]
  },
  {
   "cell_type": "markdown",
   "metadata": {},
   "source": [
    "### Exact algorithm\n",
    "\n",
    "Time complexity: $O(n)$"
   ]
  },
  {
   "cell_type": "code",
   "execution_count": 7,
   "metadata": {},
   "outputs": [],
   "source": [
    "class circle(object):\n",
    "    def __init__(self, p, q):\n",
    "        self.c = point((p.x + q.x) / 2.0, (p.y + q.y) / 2.0)\n",
    "        self.r = p.minus(q).magnitude() / 2.0"
   ]
  },
  {
   "cell_type": "code",
   "execution_count": 8,
   "metadata": {},
   "outputs": [],
   "source": [
    "# given three points, determine if exists obtuse angle\n",
    "def obtuse(p1, p2, p3):\n",
    "    points = np.array([[p1.x, p1.y], [p2.x, p2.y], [p3.x, p3.y]])\n",
    "\n",
    "    A = points[1] - points[0]\n",
    "    B = points[2] - points[1]\n",
    "    C = points[0] - points[2]\n",
    "\n",
    "    angles = []\n",
    "    \n",
    "    for e1, e2 in ((A, -B), (B, -C), (C, -A)):\n",
    "        num = np.dot(e1, e2)\n",
    "        denom = np.linalg.norm(e1) * np.linalg.norm(e2)\n",
    "        angles.append(np.arccos(num / denom) * 180 / np.pi)\n",
    "        \n",
    "    m_angle = max(angles)\n",
    "    \n",
    "    if m_angle > 90.0:\n",
    "        return True\n",
    "    else:\n",
    "        return False"
   ]
  },
  {
   "cell_type": "code",
   "execution_count": 9,
   "metadata": {},
   "outputs": [],
   "source": [
    "def farthest_pair(p1, p2, p3):\n",
    "    d = p1.dist(p2)\n",
    "    pi, pj = p1, p2\n",
    "\n",
    "    if d < p1.dist(p3):\n",
    "        d = p1.dist(p3)\n",
    "        pj = p3\n",
    "    if d < p2.dist(p3):\n",
    "        pi, pj = p2, p3\n",
    "        \n",
    "    return pi, pj"
   ]
  },
  {
   "cell_type": "code",
   "execution_count": 10,
   "metadata": {},
   "outputs": [],
   "source": [
    "def circumcenter(p1, p2, p3):\n",
    "    ax, ay = p1.x, p1.y\n",
    "    bx, by = p2.x, p2.y\n",
    "    cx, cy = p3.x, p3.y\n",
    "    \n",
    "    d = 2 * (ax * (by - cy) + bx * (cy - ay) + cx * (ay - by))\n",
    "    ux = ((ax * ax + ay * ay) * (by - cy) + (bx * bx + by * by) * (cy - ay) + (cx * cx + cy * cy) * (ay - by)) / d\n",
    "    uy = ((ax * ax + ay * ay) * (cx - bx) + (bx * bx + by * by) * (ax - cx) + (cx * cx + cy * cy) * (bx - ax)) / d\n",
    "    \n",
    "    return point(ux, uy)"
   ]
  },
  {
   "cell_type": "code",
   "execution_count": 11,
   "metadata": {},
   "outputs": [],
   "source": [
    "def generate_random_points(n, minx = 0, maxx = 400, miny = 0, maxy = 400):\n",
    "    points = list()\n",
    "    \n",
    "    for i in range(n):\n",
    "        x, y = np.random.randint(minx, maxx), np.random.randint(miny, maxy)\n",
    "        points.append(point(x, y))\n",
    "    \n",
    "    return points"
   ]
  },
  {
   "cell_type": "code",
   "execution_count": 12,
   "metadata": {},
   "outputs": [],
   "source": [
    "def random_permutation(points):\n",
    "    n = len(points)\n",
    "    for k in range(2, n):\n",
    "        r = np.random.randint(k)\n",
    "        points[k], points[r] = points[r], points[k]\n",
    "    \n",
    "    return points"
   ]
  },
  {
   "cell_type": "code",
   "execution_count": 13,
   "metadata": {},
   "outputs": [],
   "source": [
    "def min_circle_with_2_points(points, q1, q2):\n",
    "    n = len(points)\n",
    "    C = list([circle(q1, q2)])\n",
    "    \n",
    "    for k in range(n):\n",
    "        pk = points[k]\n",
    "        if pk.is_in(C[k]):\n",
    "            C.append(C[k])\n",
    "        else:\n",
    "            if pk.collinear(q1, q2): # take farthest pair of points\n",
    "                pi, pj = farthest_pair(pk, q1, q2)\n",
    "                C.append(circle(pi, pj))\n",
    "            else:\n",
    "                if obtuse(pk, q1, q2):\n",
    "                    pi, pj = farthest_pair(pk, q1, q2)\n",
    "                    C.append(circle(pi, pj))\n",
    "                else:\n",
    "                    c = circumcenter(pk, q1, q2)\n",
    "                    c_aux = circle(point(0, 0), point(0, 0))\n",
    "                    c_aux.c = c\n",
    "                    c_aux.r = c.minus(pk).mag\n",
    "                    C.append(c_aux)\n",
    "    \n",
    "    return C[-1]"
   ]
  },
  {
   "cell_type": "code",
   "execution_count": 14,
   "metadata": {},
   "outputs": [],
   "source": [
    "def min_circle_with_point(points, q):\n",
    "    n = len(points)\n",
    "    C = list([circle(points[0], q)])\n",
    "    \n",
    "    for j in range(1, n):\n",
    "        pj = points[j]\n",
    "        if pj.is_in(C[j-1]):\n",
    "            C.append(C[j-1])\n",
    "        else:\n",
    "            C.append(min_circle_with_2_points(points[:j], pj, q))\n",
    "    \n",
    "    return C[-1]"
   ]
  },
  {
   "cell_type": "code",
   "execution_count": 15,
   "metadata": {},
   "outputs": [],
   "source": [
    "def min_circle(points):\n",
    "    points = random_permutation(points)\n",
    "    n = len(points)\n",
    "    C = list([circle(points[0], points[1])])\n",
    "    for i in range(2, n):\n",
    "        pi = points[i]\n",
    "        if pi.is_in(C[i-2]):\n",
    "            C.append(C[i-2])\n",
    "        else:\n",
    "            C.append(min_circle_with_point(points[:i], pi))\n",
    "    \n",
    "    return C[-1]"
   ]
  },
  {
   "cell_type": "markdown",
   "metadata": {},
   "source": [
    "### Exact answer for points.txt"
   ]
  },
  {
   "cell_type": "code",
   "execution_count": 16,
   "metadata": {
    "scrolled": true
   },
   "outputs": [
    {
     "data": {
      "image/png": "[encoded data removed]",
      "text/plain": [
       "<Figure size 432x288 with 1 Axes>"
      ]
     },
     "metadata": {},
     "output_type": "display_data"
    }
   ],
   "source": [
    "outc = min_circle(points)\n",
    "\n",
    "fig, ax = plt.subplots()\n",
    "ax.scatter([p.x for p in points], [p.y for p in points], marker='.')\n",
    "circle_plt = plt.Circle((outc.c.x, outc.c.y), outc.r, facecolor='none', edgecolor=(1, 0, 0), linewidth=1)\n",
    "\n",
    "xlim = ax.get_xlim()\n",
    "ylim = ax.get_ylim()\n",
    "\n",
    "ax.add_artist(circle_plt)\n",
    "\n",
    "plt.xlim(xlim[0] - xlim[0] * 0.5, xlim[1] + xlim[1] * 0.5)\n",
    "plt.ylim(ylim[0] - ylim[0] * 0.5, ylim[1] + ylim[1] * 0.5)\n",
    "\n",
    "plt.title(filename)\n",
    "\n",
    "plt.show()"
   ]
  },
  {
   "cell_type": "code",
   "execution_count": 17,
   "metadata": {},
   "outputs": [
    {
     "name": "stdout",
     "output_type": "stream",
     "text": [
      "center: (418.7487430123981, 324.40499984385247) - radius: 196.38386442932028\n"
     ]
    }
   ],
   "source": [
    "print('center: ({}, {}) - radius: {}'.format(outc.c.x, outc.c.y, outc.r))"
   ]
  },
  {
   "cell_type": "markdown",
   "metadata": {},
   "source": [
    "### Experiments\n",
    "\n",
    "The experiments are realized on a machine with the following configuration:\n",
    "\n",
    "* Sistema: Ubuntu 16.04\n",
    "* Processador: Intel core i5 7th gen\n",
    "* RAM: 8gb\n",
    "\n",
    "For each iteration $i$, are generated $i * 8$ points, in interval of $[-i * 100, i * 100]$. Also, in each iteration, the heuristic algorithm and the exact algorithm are called 8 times, the time presented on experiment is the average spent.\n",
    "\n",
    "Below is presented a figure with details of $time \\times i$"
   ]
  },
  {
   "cell_type": "code",
   "execution_count": 18,
   "metadata": {},
   "outputs": [],
   "source": [
    "from tqdm import tqdm\n",
    "\n",
    "def run_experiments(n_iterations=100, display=False):\n",
    "\n",
    "    time_heuristic = list()\n",
    "    time_exact = list()\n",
    "    rep = 8\n",
    "\n",
    "    for i in tqdm(range(1, n_iterations + 1)):\n",
    "        maxx = i * 100\n",
    "        maxy = i * 100\n",
    "\n",
    "        points = generate_random_points(i * 16, minx=-maxx, maxx=maxx, miny=-maxy, maxy=maxy)\n",
    "            \n",
    "            \n",
    "        avg_h = list()\n",
    "        avg_e = list()\n",
    "        \n",
    "        for j in range(rep):\n",
    "            start_h = time.time()\n",
    "            outc = heuristic(points)\n",
    "            end_h = time.time()\n",
    "\n",
    "            start_e = time.time()\n",
    "            outc = min_circle(points)\n",
    "            end_e = time.time()\n",
    "            \n",
    "            avg_h.append(end_h - start_h)\n",
    "            avg_e.append(end_e - start_e)\n",
    "            \n",
    "        if display: # plot exact algorithm solution\n",
    "            fig, ax = plt.subplots(figsize=(5,5))\n",
    "            ax.scatter([p.x for p in points], [p.y for p in points], marker='.')\n",
    "            circle_plt = plt.Circle((outc.c.x, outc.c.y), outc.r, facecolor='none', edgecolor=(1, 0, 0), linewidth=1)\n",
    "            ax.add_artist(circle_plt)\n",
    "\n",
    "            plt.xlim(-maxx + (-maxx * 0.5), maxx + (maxx * 0.5))\n",
    "            plt.ylim(-maxy + (-maxx * 0.5), maxy + (maxx * 0.5))\n",
    "\n",
    "            plt.show()\n",
    "\n",
    "        time_heuristic.append(np.sum(avg_h) / rep)\n",
    "        time_exact.append(np.sum(avg_e) / rep)\n",
    "        \n",
    "    return time_heuristic, time_exact"
   ]
  },
  {
   "cell_type": "code",
   "execution_count": 19,
   "metadata": {},
   "outputs": [
    {
     "name": "stderr",
     "output_type": "stream",
     "text": [
      "100%|██████████| 1024/1024 [1:11:12<00:00,  4.17s/it]\n"
     ]
    }
   ],
   "source": [
    "n_iter = 1024\n",
    "times_h, times_e = run_experiments(n_iterations=n_iter)"
   ]
  },
  {
   "cell_type": "code",
   "execution_count": 20,
   "metadata": {},
   "outputs": [
    {
     "data": {
      "image/png": "[encoded data removed]",
      "text/plain": [
       "<Figure size 432x288 with 1 Axes>"
      ]
     },
     "metadata": {},
     "output_type": "display_data"
    }
   ],
   "source": [
    "plt.plot(times_h, label='Heuristic')\n",
    "plt.plot(times_e, label='Exact')\n",
    "plt.xlabel('Iteration')\n",
    "plt.ylabel('Seconds')\n",
    "plt.legend()\n",
    "plt.show()"
   ]
  },
  {
   "cell_type": "code",
   "execution_count": null,
   "metadata": {},
   "outputs": [],
   "source": []
  }
 ],
 "metadata": {
  "kernelspec": {
   "display_name": "Python 3",
   "language": "python",
   "name": "python3"
  },
  "language_info": {
   "codemirror_mode": {
    "name": "ipython",
    "version": 3
   },
   "file_extension": ".py",
   "mimetype": "text/x-python",
   "name": "python",
   "nbconvert_exporter": "python",
   "pygments_lexer": "ipython3",
   "version": "3.5.2"
  }
 },
 "nbformat": 4,
 "nbformat_minor": 2
}
